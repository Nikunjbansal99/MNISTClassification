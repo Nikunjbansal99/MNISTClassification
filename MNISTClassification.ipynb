{
  "nbformat": 4,
  "nbformat_minor": 0,
  "metadata": {
    "colab": {
      "name": "MNISTClassification.ipynb",
      "provenance": [],
      "collapsed_sections": [],
      "include_colab_link": true
    },
    "kernelspec": {
      "name": "python3",
      "display_name": "Python 3"
    },
    "accelerator": "GPU"
  },
  "cells": [
    {
      "cell_type": "markdown",
      "metadata": {
        "id": "view-in-github",
        "colab_type": "text"
      },
      "source": [
        "<a href=\"https://colab.research.google.com/github/Nikunjbansal99/MNISTClassification/blob/main/MNISTClassification.ipynb\" target=\"_parent\"><img src=\"https://colab.research.google.com/assets/colab-badge.svg\" alt=\"Open In Colab\"/></a>"
      ]
    },
    {
      "cell_type": "markdown",
      "metadata": {
        "id": "AqjKM4m36oyY"
      },
      "source": [
        "# Neural Network to Recognise Hand Written Digits Using Keras\n",
        "\n",
        "#### In this session, we will be using keras, a top level wrapper for Tensorflow to build Neural Networks that can classify hand-written digits.\n",
        "\n",
        "## We will be building three types of networks :\n",
        "* Feed-Forward Neural Network: This is a simple neural network with only dense connections\n",
        "* Convolutional Neural Network: This is a more advanced network\n",
        "\n",
        "## We will need :\n",
        "* keras \n",
        "* matplotlib - Used for data visualisation\n",
        "* numpy - Used for Matrix Operations\n",
        "\n",
        "\n",
        "## Feed-Forward Neural Network\n",
        "\n",
        "### Step 1: First we have to import all the packages that we need"
      ]
    },
    {
      "cell_type": "code",
      "metadata": {
        "id": "-lacTw8e6oyb",
        "colab": {
          "base_uri": "https://localhost:8080/",
          "height": 34
        },
        "outputId": "097a79a7-fa10-4904-d175-08afd431f488"
      },
      "source": [
        "import keras                         # Used for building the model and getting the MNIST data\n",
        "from keras.datasets import mnist     # Used for downloading and using MNIST data\n",
        "from keras.models import Sequential  # For building the model. Case Sensitive! 'S' is Capital!\n",
        "from keras.layers import Dense       # For fully connected layer\n",
        "from keras.optimizers import Adam    # Optimiser used for training\n",
        "\n",
        "import numpy as np                   # Used for matrix operations\n",
        "\n",
        "%matplotlib inline\n",
        "import matplotlib.pyplot as plt      # For visualisations"
      ],
      "execution_count": null,
      "outputs": [
        {
          "output_type": "stream",
          "text": [
            "Using TensorFlow backend.\n"
          ],
          "name": "stderr"
        }
      ]
    },
    {
      "cell_type": "markdown",
      "metadata": {
        "id": "HZQITZ5E6oyj"
      },
      "source": [
        "### Step 2: Now we have to set up some Hyper Parameters\n",
        "\n",
        "Hyper-parameters are certain constants in the neural network.\n",
        "These include the learning rate, number of layers and number of neurons in each layer.\n",
        "It is hard to know what the 'ideal' values of these hyper-parameters are, so we use certain rules-of-thumb and trial and error to select our hyper-parameters.\n",
        "They can be adjusted to get different results from the neural network."
      ]
    },
    {
      "cell_type": "code",
      "metadata": {
        "id": "wpZ9rcyU6oyl"
      },
      "source": [
        "# We feed our data into the network in batches.\n",
        "# We chose a batch size of 128 meaning each batch contains 128 images.\n",
        "batch_size = 128   \n",
        "# There are 10 digits, so we have 10 classes\n",
        "num_classes = 10\n",
        "# We will train our network for 5 epochs\n",
        "epochs = 5\n",
        "\n",
        "# MNIST images are of size 28x28 pixels\n",
        "#These values will help us in plotting images\n",
        "img_size = 28\n",
        "img_shape = (img_size, img_size)"
      ],
      "execution_count": null,
      "outputs": []
    },
    {
      "cell_type": "markdown",
      "metadata": {
        "id": "MgpORTgi6oys"
      },
      "source": [
        "### Step 3: Create a Function to plot the images"
      ]
    },
    {
      "cell_type": "code",
      "metadata": {
        "id": "_WhgxacV6oyu"
      },
      "source": [
        "def plot_images(img):\n",
        "    \n",
        "    img=img.reshape(img_shape)\n",
        "    plt.imshow(img, cmap='binary')\n",
        "    plt.show()"
      ],
      "execution_count": null,
      "outputs": []
    },
    {
      "cell_type": "markdown",
      "metadata": {
        "id": "vFt_ZO5_6oyy"
      },
      "source": [
        "### Step 4: Download, Plot and Preprocess Images\n",
        "\n",
        "The `load_data()` function is used to download the data.\n",
        "\n",
        "It returns four numpy arrays containing both the training and the test data.\n",
        "\n",
        "The 'x' values contain the images as a vector. Each image is 28x28 pixels in size, meaning that when unfolded into a vector, we get 784 values.\n",
        "\n",
        "There are 60,000 train images and 10,000 test images.\n",
        "\n",
        "The 'y' values are one-hot encoded vectors which gives us the corresponding class of the image in the 'x' arrays.\n",
        "\n",
        "After downloading the images, we have to reshape the numpy array into the share that we want it to be in."
      ]
    },
    {
      "cell_type": "code",
      "metadata": {
        "id": "ux8LA0kY6oy0"
      },
      "source": [
        "(x_train, y_train), (x_test, y_test) = mnist.load_data()"
      ],
      "execution_count": null,
      "outputs": []
    },
    {
      "cell_type": "code",
      "metadata": {
        "id": "Ciy6kwlR6oy6",
        "colab": {
          "base_uri": "https://localhost:8080/",
          "height": 51
        },
        "outputId": "4e55292c-36c5-470b-bbaf-cb8a0f7ef704"
      },
      "source": [
        "# Reshaping the data in the form we want.\n",
        "# This will create 60,000 rows with each row containing 784 columns, each containing a pixel value\n",
        "x_train = x_train.reshape(60000, 784)\n",
        "x_test = x_test.reshape(10000, 784)\n",
        "\n",
        "# Convert the images into type float32\n",
        "x_train = x_train.astype('float32')\n",
        "x_test = x_test.astype('float32')\n",
        "\n",
        "# Let's plot some of the images\n",
        "#plot_images(x_train[2])\n",
        "\n",
        "\n",
        "# We normalise the images as it helps in training\n",
        "# This means that we convert the pixel values (which are in the range 0-255) to a range (0-1).\n",
        "# This is done by dividing it by 255\n",
        "x_train /= 255\n",
        "x_test /= 255\n",
        "\n",
        "# Let's see how many train and testing samples we have\n",
        "print(x_train.shape[0], 'train samples')\n",
        "print(x_test.shape[0], 'test samples')"
      ],
      "execution_count": null,
      "outputs": [
        {
          "output_type": "stream",
          "text": [
            "60000 train samples\n",
            "10000 test samples\n"
          ],
          "name": "stdout"
        }
      ]
    },
    {
      "cell_type": "code",
      "metadata": {
        "id": "jcjoyYbj6ozG",
        "colab": {
          "base_uri": "https://localhost:8080/",
          "height": 153
        },
        "outputId": "fd4fed45-e508-4a78-fabb-b7a6891745d5"
      },
      "source": [
        "print('y_train format before one hot encoding:')\n",
        "print(y_train[10:15])\n",
        "\n",
        "y_train = keras.utils.to_categorical(y_train, num_classes)\n",
        "\n",
        "print('y_train format after one hot encoding:')\n",
        "print(y_train[10:15])\n",
        "y_test = keras.utils.to_categorical(y_test, num_classes)"
      ],
      "execution_count": null,
      "outputs": [
        {
          "output_type": "stream",
          "text": [
            "y_train format before one hot encoding:\n",
            "[3 5 3 6 1]\n",
            "y_train format after one hot encoding:\n",
            "[[0. 0. 0. 1. 0. 0. 0. 0. 0. 0.]\n",
            " [0. 0. 0. 0. 0. 1. 0. 0. 0. 0.]\n",
            " [0. 0. 0. 1. 0. 0. 0. 0. 0. 0.]\n",
            " [0. 0. 0. 0. 0. 0. 1. 0. 0. 0.]\n",
            " [0. 1. 0. 0. 0. 0. 0. 0. 0. 0.]]\n"
          ],
          "name": "stdout"
        }
      ]
    },
    {
      "cell_type": "markdown",
      "metadata": {
        "id": "vWBC5nfv6ozE"
      },
      "source": [
        "### Step 5: Now we convert the classes into One-Hot Encoded Vectors"
      ]
    },
    {
      "cell_type": "markdown",
      "metadata": {
        "id": "ICaPsfP46ozJ"
      },
      "source": [
        "### Step 6: Building the Neural Network!!!\n",
        "\n",
        "The Model is built using the Sequential Function\n",
        "\n",
        "We add layers to the model step by step."
      ]
    },
    {
      "cell_type": "code",
      "metadata": {
        "id": "Ic3k7Z_E6ozK",
        "colab": {
          "base_uri": "https://localhost:8080/",
          "height": 119
        },
        "outputId": "37e5caf9-e33a-498b-ba0d-23a38e04560a"
      },
      "source": [
        "model = Sequential()\n",
        "model.add(Dense(512, activation='relu', input_shape=(784,)))\n",
        "model.add(Dense(512, activation='relu'))\n",
        "model.add(Dense(num_classes, activation='softmax'))"
      ],
      "execution_count": null,
      "outputs": [
        {
          "output_type": "stream",
          "text": [
            "WARNING:tensorflow:From /usr/local/lib/python3.6/dist-packages/keras/backend/tensorflow_backend.py:66: The name tf.get_default_graph is deprecated. Please use tf.compat.v1.get_default_graph instead.\n",
            "\n",
            "WARNING:tensorflow:From /usr/local/lib/python3.6/dist-packages/keras/backend/tensorflow_backend.py:541: The name tf.placeholder is deprecated. Please use tf.compat.v1.placeholder instead.\n",
            "\n",
            "WARNING:tensorflow:From /usr/local/lib/python3.6/dist-packages/keras/backend/tensorflow_backend.py:4432: The name tf.random_uniform is deprecated. Please use tf.random.uniform instead.\n",
            "\n"
          ],
          "name": "stdout"
        }
      ]
    },
    {
      "cell_type": "markdown",
      "metadata": {
        "id": "tCow4-5p6ozO"
      },
      "source": [
        "### Step 7: Training the model\n",
        "\n",
        "Now that we have our model built, we can start to train our model. This is done using the compile() function.\n",
        "\n",
        "We use a categorical crossentropy loss function.\n",
        "The optimiser we use is Adam.\n",
        "And the metric that the neural network tries to optimise is the accuracy."
      ]
    },
    {
      "cell_type": "code",
      "metadata": {
        "id": "Bq9K1lkm6ozQ",
        "colab": {
          "base_uri": "https://localhost:8080/",
          "height": 595
        },
        "outputId": "2ed0f2f2-b199-4b66-b6d2-59874f7aa0e0"
      },
      "source": [
        "model.compile(loss='categorical_crossentropy',\n",
        "              optimizer=Adam(),\n",
        "              metrics=['accuracy'])\n",
        "\n",
        "history = model.fit(x_train, y_train,\n",
        "                    batch_size=batch_size,\n",
        "                    epochs=epochs,\n",
        "                    verbose=1,\n",
        "                    validation_data=(x_test, y_test))\n",
        "score = model.evaluate(x_test, y_test, verbose=0)"
      ],
      "execution_count": null,
      "outputs": [
        {
          "output_type": "stream",
          "text": [
            "WARNING:tensorflow:From /usr/local/lib/python3.6/dist-packages/keras/optimizers.py:793: The name tf.train.Optimizer is deprecated. Please use tf.compat.v1.train.Optimizer instead.\n",
            "\n",
            "WARNING:tensorflow:From /usr/local/lib/python3.6/dist-packages/keras/backend/tensorflow_backend.py:3576: The name tf.log is deprecated. Please use tf.math.log instead.\n",
            "\n",
            "WARNING:tensorflow:From /usr/local/lib/python3.6/dist-packages/tensorflow_core/python/ops/math_grad.py:1424: where (from tensorflow.python.ops.array_ops) is deprecated and will be removed in a future version.\n",
            "Instructions for updating:\n",
            "Use tf.where in 2.0, which has the same broadcast rule as np.where\n",
            "WARNING:tensorflow:From /usr/local/lib/python3.6/dist-packages/keras/backend/tensorflow_backend.py:1033: The name tf.assign_add is deprecated. Please use tf.compat.v1.assign_add instead.\n",
            "\n",
            "WARNING:tensorflow:From /usr/local/lib/python3.6/dist-packages/keras/backend/tensorflow_backend.py:1020: The name tf.assign is deprecated. Please use tf.compat.v1.assign instead.\n",
            "\n",
            "WARNING:tensorflow:From /usr/local/lib/python3.6/dist-packages/keras/backend/tensorflow_backend.py:3005: The name tf.Session is deprecated. Please use tf.compat.v1.Session instead.\n",
            "\n",
            "Train on 60000 samples, validate on 10000 samples\n",
            "Epoch 1/5\n",
            "WARNING:tensorflow:From /usr/local/lib/python3.6/dist-packages/keras/backend/tensorflow_backend.py:190: The name tf.get_default_session is deprecated. Please use tf.compat.v1.get_default_session instead.\n",
            "\n",
            "WARNING:tensorflow:From /usr/local/lib/python3.6/dist-packages/keras/backend/tensorflow_backend.py:197: The name tf.ConfigProto is deprecated. Please use tf.compat.v1.ConfigProto instead.\n",
            "\n",
            "WARNING:tensorflow:From /usr/local/lib/python3.6/dist-packages/keras/backend/tensorflow_backend.py:207: The name tf.global_variables is deprecated. Please use tf.compat.v1.global_variables instead.\n",
            "\n",
            "WARNING:tensorflow:From /usr/local/lib/python3.6/dist-packages/keras/backend/tensorflow_backend.py:216: The name tf.is_variable_initialized is deprecated. Please use tf.compat.v1.is_variable_initialized instead.\n",
            "\n",
            "WARNING:tensorflow:From /usr/local/lib/python3.6/dist-packages/keras/backend/tensorflow_backend.py:223: The name tf.variables_initializer is deprecated. Please use tf.compat.v1.variables_initializer instead.\n",
            "\n",
            "60000/60000 [==============================] - 8s 131us/step - loss: 0.2170 - acc: 0.9364 - val_loss: 0.1036 - val_acc: 0.9690\n",
            "Epoch 2/5\n",
            "60000/60000 [==============================] - 3s 51us/step - loss: 0.0772 - acc: 0.9760 - val_loss: 0.0842 - val_acc: 0.9744\n",
            "Epoch 3/5\n",
            "60000/60000 [==============================] - 3s 50us/step - loss: 0.0500 - acc: 0.9840 - val_loss: 0.0759 - val_acc: 0.9751\n",
            "Epoch 4/5\n",
            "60000/60000 [==============================] - 3s 50us/step - loss: 0.0347 - acc: 0.9893 - val_loss: 0.0912 - val_acc: 0.9741\n",
            "Epoch 5/5\n",
            "60000/60000 [==============================] - 3s 50us/step - loss: 0.0265 - acc: 0.9910 - val_loss: 0.0696 - val_acc: 0.9793\n"
          ],
          "name": "stdout"
        }
      ]
    },
    {
      "cell_type": "markdown",
      "metadata": {
        "id": "JrMPhzx66ozW"
      },
      "source": [
        "### Step 8: Now we can see our results!"
      ]
    },
    {
      "cell_type": "code",
      "metadata": {
        "id": "PyLoOUe_6ozX",
        "colab": {
          "base_uri": "https://localhost:8080/",
          "height": 34
        },
        "outputId": "1e148621-d646-4054-cf0c-fd8d5b0f4dd5"
      },
      "source": [
        "## print('Test loss:', score[0])\n",
        "print('Test accuracy:', score[1])"
      ],
      "execution_count": null,
      "outputs": [
        {
          "output_type": "stream",
          "text": [
            "Test accuracy: 0.9793\n"
          ],
          "name": "stdout"
        }
      ]
    },
    {
      "cell_type": "code",
      "metadata": {
        "id": "27IzEx6zOF6w",
        "colab": {
          "base_uri": "https://localhost:8080/",
          "height": 303
        },
        "outputId": "28cc7481-0fc1-49cf-c0e9-e43c7a6cc352"
      },
      "source": [
        "plot_images(x_test[4])\n",
        "# print(x_test[7])\n",
        "# print(x_test[7].shape)\n",
        "\n",
        "prediction=model.predict(x_test[6].reshape(1, 784)) # Need to reshape here\n",
        "\n",
        "print('Prediction is: ')\n",
        "print(np.argmax(prediction)) # Getting the position of the max value in the prediction list"
      ],
      "execution_count": null,
      "outputs": [
        {
          "output_type": "display_data",
          "data": {
            "image/png": "[encoded data removed]",
            "text/plain": [
              "<Figure size 432x288 with 1 Axes>"
            ]
          },
          "metadata": {
            "tags": []
          }
        },
        {
          "output_type": "stream",
          "text": [
            "Prediction is: \n",
            "4\n"
          ],
          "name": "stdout"
        }
      ]
    },
    {
      "cell_type": "markdown",
      "metadata": {
        "id": "29UUjdJM6ozb"
      },
      "source": [
        "We got an appreciable accuracy of 97%+.\n",
        "Let's see if we can improve it by using a convolutional nerual network\n",
        "\n",
        "## Convolutional Neural Network\n",
        "\n",
        "Now we will start to train a convolutional neural network.\n",
        "\n",
        "### Step 9: Importing Modules"
      ]
    },
    {
      "cell_type": "code",
      "metadata": {
        "id": "PRUj9zmc6ozd"
      },
      "source": [
        "from keras.layers import Flatten   # This is used to get a vector of all the filter outputs\n",
        "from keras.layers import Conv2D    # This is the Conv2D filter"
      ],
      "execution_count": null,
      "outputs": []
    },
    {
      "cell_type": "markdown",
      "metadata": {
        "id": "NlnX8oQ36ozg"
      },
      "source": [
        "### Step 10: Reshaping the Training Data\n",
        "\n",
        "A Conv2D layer takes as input an image of shape:\n",
        "No. of Rows x No. of Columns x No. of Channels\n",
        "\n",
        "In our case, the number of channels is 1. In case of color images like the CIFAR-10 dataset, the number of channels will be 3 (Red, Green, Blue)"
      ]
    },
    {
      "cell_type": "code",
      "metadata": {
        "id": "jCwCvpX_6ozh"
      },
      "source": [
        "channels = 1\n",
        "\n",
        "x_train_cnn = x_train.reshape(x_train.shape[0], img_size, img_size, channels)\n",
        "x_test_cnn = x_test.reshape(x_test.shape[0], img_size, img_size, channels)\n",
        "input_shape_cnn = (img_size, img_size, channels)"
      ],
      "execution_count": null,
      "outputs": []
    },
    {
      "cell_type": "markdown",
      "metadata": {
        "id": "UtYULQOo6ozj"
      },
      "source": [
        "### Step 11: Building the model"
      ]
    },
    {
      "cell_type": "code",
      "metadata": {
        "id": "H0ZXTrbM6ozk",
        "colab": {
          "base_uri": "https://localhost:8080/",
          "height": 102
        },
        "outputId": "0a10a562-e901-421e-a847-208f2d306d17"
      },
      "source": [
        "model_cnn = Sequential()\n",
        "model_cnn.add(Conv2D(32, kernel_size=(3, 3), activation='relu', input_shape=input_shape_cnn))\n",
        "model_cnn.add(Conv2D(64, (3, 3), activation='relu'))\n",
        "model_cnn.add(Flatten())\n",
        "model_cnn.add(Dense(128, activation='relu'))\n",
        "model_cnn.add(Dense(num_classes, activation='softmax'))\n",
        "\n",
        "model_cnn.compile(loss=keras.losses.categorical_crossentropy,\n",
        "              optimizer=keras.optimizers.Adadelta(),\n",
        "              metrics=['accuracy'])\n",
        "\n",
        "history = model_cnn.fit(x_train_cnn, y_train,\n",
        "          batch_size=batch_size,\n",
        "          epochs=2,\n",
        "          verbose=1,\n",
        "          validation_data=(x_test_cnn, y_test))"
      ],
      "execution_count": null,
      "outputs": [
        {
          "output_type": "stream",
          "text": [
            "Train on 60000 samples, validate on 10000 samples\n",
            "Epoch 1/2\n",
            "60000/60000 [==============================] - 15s 244us/step - loss: 0.1880 - acc: 0.9422 - val_loss: 0.0611 - val_acc: 0.9800\n",
            "Epoch 2/2\n",
            "60000/60000 [==============================] - 12s 192us/step - loss: 0.0484 - acc: 0.9855 - val_loss: 0.0437 - val_acc: 0.9859\n"
          ],
          "name": "stdout"
        }
      ]
    },
    {
      "cell_type": "markdown",
      "metadata": {
        "id": "-TLtqx3f6ozn"
      },
      "source": [
        "### Step 12: Evaluating our model performance"
      ]
    },
    {
      "cell_type": "code",
      "metadata": {
        "id": "Bg-11_Yd6ozp",
        "colab": {
          "base_uri": "https://localhost:8080/",
          "height": 51
        },
        "outputId": "305e23ea-fa43-4891-d719-84d863e4b072"
      },
      "source": [
        "score = model_cnn.evaluate(x_test_cnn, y_test, verbose=0)\n",
        "print('Test loss:', score[0])\n",
        "print('Test accuracy:', score[1])"
      ],
      "execution_count": null,
      "outputs": [
        {
          "output_type": "stream",
          "text": [
            "Test loss: 0.043680284845759164\n",
            "Test accuracy: 0.9859\n"
          ],
          "name": "stdout"
        }
      ]
    },
    {
      "cell_type": "code",
      "metadata": {
        "id": "cpnChH12-H4x",
        "colab": {
          "base_uri": "https://localhost:8080/",
          "height": 303
        },
        "outputId": "6102e334-9878-49f0-f792-6b364d25c04a"
      },
      "source": [
        "plot_images(x_test[10])\n",
        "\n",
        "prediction_cnn=model_cnn.predict(x_test[10].reshape(1, 28, 28, 1))\n",
        "\n",
        "print('The prediction is: ')\n",
        "print(np.argmax(prediction_cnn))"
      ],
      "execution_count": null,
      "outputs": [
        {
          "output_type": "display_data",
          "data": {
            "image/png": "[encoded data removed]",
            "text/plain": [
              "<Figure size 432x288 with 1 Axes>"
            ]
          },
          "metadata": {
            "tags": []
          }
        },
        {
          "output_type": "stream",
          "text": [
            "The prediction is: \n",
            "0\n"
          ],
          "name": "stdout"
        }
      ]
    }
  ]
}